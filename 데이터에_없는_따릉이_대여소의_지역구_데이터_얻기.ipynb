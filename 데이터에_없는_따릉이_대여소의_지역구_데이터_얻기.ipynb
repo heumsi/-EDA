{
 "cells": [
  {
   "cell_type": "markdown",
   "metadata": {},
   "source": [
    "# 카카오맵 rest api 이용해서, 데이터에 없는 따릉이 대여소의 지역구 데이터 얻기."
   ]
  },
  {
   "cell_type": "markdown",
   "metadata": {},
   "source": [
    "이번 글에서는, **데이터에는 없는 지역구에 대한 데이터를 얻는 방법**을 다룬다. \n",
    "기본적으로, 대여소명을 활용하고, 다음의 과정을 거친다.\n",
    "- 공개된 대여소 데이터로 지역구 데이터를 얻는다.\n",
    "- 대여소명과 카카오맵 rest api를 통해 얻는 방법에 대해 다룬다.\n",
    "  - 이 과정 중에, 카카오맵 rest api 사용법도 간략히 살펴보게 된다.\n",
    "- 결과적으로 **`{대여소 이름: 지역구}` 인 dictionary**를 얻는다.\n",
    "  예를 들어 아래와 같다.\n",
    "    \n",
    "```python\n",
    "{'MCM 본사 직영점 앞': '강남구',\n",
    " '교보타워 버스정류장(신논현역 3번출구 후면)': '강남구',\n",
    " '논현역 7번출구': '강남구',\n",
    " '신영 ROYAL PALACE 앞': '강남구',\n",
    " '압구정 한양 3차 아파트': '강남구',\n",
    " '압구정역 2번 출구 옆': '강남구',\n",
    " '압구정파출소 앞': '강남구',\n",
    " '청담동 맥도날드 옆(위치)': '강남구',\n",
    " '청담역(우리들병원 앞)': '강남구',\n",
    " '학동로 래미안 아파트 앞': '강남구',\n",
    " '현대고등학교 건너편': '강남구'}\n",
    "```"
   ]
  },
  {
   "cell_type": "markdown",
   "metadata": {},
   "source": [
    "## 1. 대여소 정보 데이터를 통해, 대여소의 지역구 데이터 얻기."
   ]
  },
  {
   "cell_type": "markdown",
   "metadata": {},
   "source": [
    "첫 번째 방법은, 공공 데이터 포탈에 있는 `서울특별시 공공자전거 대여소 정보.csv` 를 먼저 활용하는 거다.  \n",
    "[여기서](https://data.seoul.go.kr/dataList/datasetView.do?infId=OA-13252&srvType=S&serviceKind=1&currentPageNo=1) 다운받을 수 있다.  \n",
    "나는 19.5.31 에 올라온 데이터를 받았다."
   ]
  },
  {
   "cell_type": "code",
   "execution_count": 1,
   "metadata": {},
   "outputs": [],
   "source": [
    "import pandas as pd"
   ]
  },
  {
   "cell_type": "code",
   "execution_count": 2,
   "metadata": {},
   "outputs": [
    {
     "data": {
      "text/html": [
       "<div>\n",
       "<style scoped>\n",
       "    .dataframe tbody tr th:only-of-type {\n",
       "        vertical-align: middle;\n",
       "    }\n",
       "\n",
       "    .dataframe tbody tr th {\n",
       "        vertical-align: top;\n",
       "    }\n",
       "\n",
       "    .dataframe thead th {\n",
       "        text-align: right;\n",
       "    }\n",
       "</style>\n",
       "<table border=\"1\" class=\"dataframe\">\n",
       "  <thead>\n",
       "    <tr style=\"text-align: right;\">\n",
       "      <th></th>\n",
       "      <th>구명</th>\n",
       "      <th>대여소ID</th>\n",
       "      <th>대여소번호</th>\n",
       "      <th>대여소명</th>\n",
       "      <th>대여소 주소</th>\n",
       "      <th>거치대수</th>\n",
       "      <th>위도</th>\n",
       "      <th>경도</th>\n",
       "    </tr>\n",
       "  </thead>\n",
       "  <tbody>\n",
       "    <tr>\n",
       "      <th>0</th>\n",
       "      <td>강남구</td>\n",
       "      <td>ST-777</td>\n",
       "      <td>2301</td>\n",
       "      <td>현대고등학교 건너편</td>\n",
       "      <td>서울특별시 강남구 압구정로 134현대고등학교 건너편</td>\n",
       "      <td>10</td>\n",
       "      <td>37.524071</td>\n",
       "      <td>127.021790</td>\n",
       "    </tr>\n",
       "    <tr>\n",
       "      <th>1</th>\n",
       "      <td>강남구</td>\n",
       "      <td>ST-787</td>\n",
       "      <td>2302</td>\n",
       "      <td>교보타워 버스정류장(신논현역 3번출구 후면)</td>\n",
       "      <td>서울특별시 강남구 봉은사로 지하 102교보타워 버스정류장</td>\n",
       "      <td>10</td>\n",
       "      <td>37.505581</td>\n",
       "      <td>127.024277</td>\n",
       "    </tr>\n",
       "    <tr>\n",
       "      <th>2</th>\n",
       "      <td>강남구</td>\n",
       "      <td>ST-788</td>\n",
       "      <td>2303</td>\n",
       "      <td>논현역 7번출구</td>\n",
       "      <td>서울특별시 강남구 학동로 지하 102논현역 7번출구</td>\n",
       "      <td>15</td>\n",
       "      <td>37.511517</td>\n",
       "      <td>127.021477</td>\n",
       "    </tr>\n",
       "    <tr>\n",
       "      <th>3</th>\n",
       "      <td>강남구</td>\n",
       "      <td>ST-789</td>\n",
       "      <td>2304</td>\n",
       "      <td>신영 ROYAL PALACE 앞</td>\n",
       "      <td>서울특별시 강남구 언주로 626신영 ROYAL PALACE앞</td>\n",
       "      <td>10</td>\n",
       "      <td>37.512527</td>\n",
       "      <td>127.035835</td>\n",
       "    </tr>\n",
       "    <tr>\n",
       "      <th>4</th>\n",
       "      <td>강남구</td>\n",
       "      <td>ST-790</td>\n",
       "      <td>2305</td>\n",
       "      <td>MCM 본사 직영점 앞</td>\n",
       "      <td>서울특별시 강남구 언주로 734MCM 본사 직영점 앞</td>\n",
       "      <td>10</td>\n",
       "      <td>37.520641</td>\n",
       "      <td>127.034508</td>\n",
       "    </tr>\n",
       "  </tbody>\n",
       "</table>\n",
       "</div>"
      ],
      "text/plain": [
       "    구명   대여소ID  대여소번호                      대여소명  \\\n",
       "0  강남구  ST-777   2301                현대고등학교 건너편   \n",
       "1  강남구  ST-787   2302  교보타워 버스정류장(신논현역 3번출구 후면)   \n",
       "2  강남구  ST-788   2303                  논현역 7번출구   \n",
       "3  강남구  ST-789   2304         신영 ROYAL PALACE 앞   \n",
       "4  강남구  ST-790   2305              MCM 본사 직영점 앞   \n",
       "\n",
       "                              대여소 주소  거치대수         위도          경도  \n",
       "0       서울특별시 강남구 압구정로 134현대고등학교 건너편    10  37.524071  127.021790  \n",
       "1    서울특별시 강남구 봉은사로 지하 102교보타워 버스정류장    10  37.505581  127.024277  \n",
       "2       서울특별시 강남구 학동로 지하 102논현역 7번출구    15  37.511517  127.021477  \n",
       "3  서울특별시 강남구 언주로 626신영 ROYAL PALACE앞    10  37.512527  127.035835  \n",
       "4      서울특별시 강남구 언주로 734MCM 본사 직영점 앞    10  37.520641  127.034508  "
      ]
     },
     "execution_count": 2,
     "metadata": {},
     "output_type": "execute_result"
    }
   ],
   "source": [
    "rentals = pd.read_csv(\"data/서울특별시 공공자전거 대여소 정보.csv\")\n",
    "rentals.head()"
   ]
  },
  {
   "cell_type": "markdown",
   "metadata": {},
   "source": [
    "여기에는 **대여소별 지역구에 대한 정보**가 있다.  \n",
    "즉, `현대고등학교 건너편` 이 `강남구` 에 속해있다는 정보를 알 수 있다."
   ]
  },
  {
   "cell_type": "code",
   "execution_count": 108,
   "metadata": {},
   "outputs": [
    {
     "data": {
      "text/plain": [
       "1460"
      ]
     },
     "execution_count": 108,
     "metadata": {},
     "output_type": "execute_result"
    }
   ],
   "source": [
    "len(set(rentals['대여소명']))"
   ]
  },
  {
   "cell_type": "markdown",
   "metadata": {},
   "source": [
    "1460개에 대한 정보가 있다고 한다.  \n",
    "19년도 5월 데이터이니, 해당 날짜 기준 대여소만 있고, **아무래도 이전에 폐쇄된 대여소 정보는 없을 것이다.**"
   ]
  },
  {
   "cell_type": "markdown",
   "metadata": {},
   "source": [
    "그리고, 이제 내가 사용할 데이터프레임을 가져와보자."
   ]
  },
  {
   "cell_type": "code",
   "execution_count": 5,
   "metadata": {},
   "outputs": [
    {
     "data": {
      "text/html": [
       "<div>\n",
       "<style scoped>\n",
       "    .dataframe tbody tr th:only-of-type {\n",
       "        vertical-align: middle;\n",
       "    }\n",
       "\n",
       "    .dataframe tbody tr th {\n",
       "        vertical-align: top;\n",
       "    }\n",
       "\n",
       "    .dataframe thead th {\n",
       "        text-align: right;\n",
       "    }\n",
       "</style>\n",
       "<table border=\"1\" class=\"dataframe\">\n",
       "  <thead>\n",
       "    <tr style=\"text-align: right;\">\n",
       "      <th></th>\n",
       "      <th>대여일자</th>\n",
       "      <th>대여시간</th>\n",
       "      <th>대여소번호</th>\n",
       "      <th>대여소</th>\n",
       "      <th>대여구분코드</th>\n",
       "      <th>성별</th>\n",
       "      <th>연령대코드</th>\n",
       "      <th>이용건수</th>\n",
       "      <th>운동량</th>\n",
       "      <th>탄소량</th>\n",
       "      <th>이동거리(M)</th>\n",
       "      <th>이동시간(분)</th>\n",
       "      <th>년</th>\n",
       "      <th>월</th>\n",
       "      <th>일</th>\n",
       "      <th>요일</th>\n",
       "    </tr>\n",
       "  </thead>\n",
       "  <tbody>\n",
       "    <tr>\n",
       "      <th>0</th>\n",
       "      <td>2017-01-01</td>\n",
       "      <td>0</td>\n",
       "      <td>230</td>\n",
       "      <td>영등포구청역 1번출구</td>\n",
       "      <td>정기권</td>\n",
       "      <td>F</td>\n",
       "      <td>~10대</td>\n",
       "      <td>1</td>\n",
       "      <td>31.270000</td>\n",
       "      <td>0.39</td>\n",
       "      <td>1680</td>\n",
       "      <td>155</td>\n",
       "      <td>2017</td>\n",
       "      <td>1</td>\n",
       "      <td>1</td>\n",
       "      <td>6</td>\n",
       "    </tr>\n",
       "    <tr>\n",
       "      <th>1</th>\n",
       "      <td>2017-01-01</td>\n",
       "      <td>0</td>\n",
       "      <td>315</td>\n",
       "      <td>신한은행 안국역지점 옆</td>\n",
       "      <td>정기권</td>\n",
       "      <td>F</td>\n",
       "      <td>20대</td>\n",
       "      <td>1</td>\n",
       "      <td>47.320000</td>\n",
       "      <td>0.55</td>\n",
       "      <td>2390</td>\n",
       "      <td>15</td>\n",
       "      <td>2017</td>\n",
       "      <td>1</td>\n",
       "      <td>1</td>\n",
       "      <td>6</td>\n",
       "    </tr>\n",
       "    <tr>\n",
       "      <th>2</th>\n",
       "      <td>2017-01-01</td>\n",
       "      <td>0</td>\n",
       "      <td>328</td>\n",
       "      <td>탑골공원 앞</td>\n",
       "      <td>정기권</td>\n",
       "      <td>F</td>\n",
       "      <td>20대</td>\n",
       "      <td>1</td>\n",
       "      <td>57.919998</td>\n",
       "      <td>0.52</td>\n",
       "      <td>2250</td>\n",
       "      <td>13</td>\n",
       "      <td>2017</td>\n",
       "      <td>1</td>\n",
       "      <td>1</td>\n",
       "      <td>6</td>\n",
       "    </tr>\n",
       "    <tr>\n",
       "      <th>3</th>\n",
       "      <td>2017-01-01</td>\n",
       "      <td>0</td>\n",
       "      <td>175</td>\n",
       "      <td>홍연2교옆</td>\n",
       "      <td>정기권</td>\n",
       "      <td>F</td>\n",
       "      <td>20대</td>\n",
       "      <td>1</td>\n",
       "      <td>133.289993</td>\n",
       "      <td>1.53</td>\n",
       "      <td>6600</td>\n",
       "      <td>43</td>\n",
       "      <td>2017</td>\n",
       "      <td>1</td>\n",
       "      <td>1</td>\n",
       "      <td>6</td>\n",
       "    </tr>\n",
       "    <tr>\n",
       "      <th>4</th>\n",
       "      <td>2017-01-01</td>\n",
       "      <td>0</td>\n",
       "      <td>817</td>\n",
       "      <td>삼각지역 4번출구 앞</td>\n",
       "      <td>정기권</td>\n",
       "      <td>F</td>\n",
       "      <td>20대</td>\n",
       "      <td>1</td>\n",
       "      <td>33.880001</td>\n",
       "      <td>0.32</td>\n",
       "      <td>1380</td>\n",
       "      <td>8</td>\n",
       "      <td>2017</td>\n",
       "      <td>1</td>\n",
       "      <td>1</td>\n",
       "      <td>6</td>\n",
       "    </tr>\n",
       "  </tbody>\n",
       "</table>\n",
       "</div>"
      ],
      "text/plain": [
       "        대여일자  대여시간 대여소번호            대여소 대여구분코드 성별 연령대코드  이용건수         운동량  \\\n",
       "0 2017-01-01     0   230    영등포구청역 1번출구    정기권  F  ~10대     1   31.270000   \n",
       "1 2017-01-01     0   315   신한은행 안국역지점 옆    정기권  F   20대     1   47.320000   \n",
       "2 2017-01-01     0   328         탑골공원 앞    정기권  F   20대     1   57.919998   \n",
       "3 2017-01-01     0   175          홍연2교옆    정기권  F   20대     1  133.289993   \n",
       "4 2017-01-01     0   817    삼각지역 4번출구 앞    정기권  F   20대     1   33.880001   \n",
       "\n",
       "    탄소량  이동거리(M)  이동시간(분)     년  월  일  요일  \n",
       "0  0.39     1680      155  2017  1  1   6  \n",
       "1  0.55     2390       15  2017  1  1   6  \n",
       "2  0.52     2250       13  2017  1  1   6  \n",
       "3  1.53     6600       43  2017  1  1   6  \n",
       "4  0.32     1380        8  2017  1  1   6  "
      ]
     },
     "execution_count": 5,
     "metadata": {},
     "output_type": "execute_result"
    }
   ],
   "source": [
    "df = pd.read_pickle('data/dataframes/2017-2018.pkl')\n",
    "df.head()"
   ]
  },
  {
   "cell_type": "markdown",
   "metadata": {},
   "source": [
    "내 데이터프레임에는, **지역구에 대한 정보가 없다. 근데 나는 지역구를 여기다가 추가하고싶다. 이게 문제의 시작이다.**  \n",
    "\n",
    "이 데이터프레임에는 대여소 종류가 몇 개인지 확인해보면,"
   ]
  },
  {
   "cell_type": "code",
   "execution_count": 6,
   "metadata": {},
   "outputs": [
    {
     "data": {
      "text/plain": [
       "1514"
      ]
     },
     "execution_count": 6,
     "metadata": {},
     "output_type": "execute_result"
    }
   ],
   "source": [
    "len(set(df['대여소']))"
   ]
  },
  {
   "cell_type": "markdown",
   "metadata": {},
   "source": [
    "1514개란다. 이 데이터프레임은 2017-2018년의 데이터를 담고있는데, 19년도 5월 데이터의 대여소개수가 1460개인 것과 비교하면,  \n",
    "이 **데이터프레임에는 최소 54개 정도의 대여소가 없다.**\n",
    "\n",
    "위에서 로드한 대여소 데이터를 데이터프레임에 대여소 이름을 기준으로 매핑하면, 얼마만큼의 데이터가 손실되는지 보자."
   ]
  },
  {
   "cell_type": "code",
   "execution_count": 7,
   "metadata": {},
   "outputs": [
    {
     "name": "stdout",
     "output_type": "stream",
     "text": [
      "매핑하기 이전: 10183216\n",
      "매핑하기 이후: 5909173\n"
     ]
    }
   ],
   "source": [
    "before = df.shape[0]\n",
    "after = pd.merge(df, rentals[['대여소번호', '구명']], on='대여소번호', how='inner').shape[0]\n",
    "\n",
    "print(\"매핑하기 이전:\", before)\n",
    "print(\"매핑하기 이후:\", after)"
   ]
  },
  {
   "cell_type": "code",
   "execution_count": 8,
   "metadata": {},
   "outputs": [
    {
     "data": {
      "text/plain": [
       "41.971445955776645"
      ]
     },
     "execution_count": 8,
     "metadata": {},
     "output_type": "execute_result"
    }
   ],
   "source": [
    "(before - after) / before * 100"
   ]
  },
  {
   "cell_type": "markdown",
   "metadata": {},
   "source": [
    "약 40% 의 손실이 나니.. 그냥 무시하고 갈 수가 없다.\n",
    "\n",
    "이에, 대여소 데이터 뿐이 아니라, **별도의 써드파티 api 를 이용하여 지역구 데이터를 얻어오기로 해보자.**"
   ]
  },
  {
   "cell_type": "markdown",
   "metadata": {},
   "source": [
    "---"
   ]
  },
  {
   "cell_type": "markdown",
   "metadata": {},
   "source": [
    "## 2. 카카오맵 rest api 를 이용해서 대여소의 지역구 얻어오기"
   ]
  },
  {
   "cell_type": "markdown",
   "metadata": {},
   "source": [
    "아이디어는 이렇다.  \n",
    "\n",
    "1. 우리는 데이터프레임에서 각 대여소의 지역구를 얻고 싶은데, 현재 지역구가 없다.\n",
    "2. 대여소 데이터에 일부 대여소의 지역구 정보가 있지만, 없는 것도 많다.\n",
    "3. 하지만, **대여소 이름을 보면 어느정도 지역을 추론할 수 있는데, 대여소 이름을 카카오 지도에서 검색하여 주소를 알아낼 수 있다.**\n",
    "4. 해당 주소에서 지역구 값만 가져오면 된다.\n",
    "\n",
    "얼마나 잘될지는 모르겠지만, 일단 해보자."
   ]
  },
  {
   "cell_type": "markdown",
   "metadata": {},
   "source": [
    "#### 2.1) Kakao rest api 사용법 알아보기"
   ]
  },
  {
   "cell_type": "markdown",
   "metadata": {},
   "source": [
    "[kakao developers 공식 docu](https://developers.kakao.com/docs/restapi/local) 에 있는 내용을 토대로 먼저, 카카오 rest api 사용해보자.  \n",
    "아래를 보기 전에, 아래와 같은 사항이 준비되어있어야 한다.  \n",
    "1. kakao developers 에서 계정 생성 후, 내 어플리케이션 만들기.\n",
    "2. 내 어플리케이션의 REST API key 를 찾을 것.\n",
    "  - 애플리케이션 - 설정 - 일반에 가면 볼 수 있다."
   ]
  },
  {
   "cell_type": "code",
   "execution_count": 11,
   "metadata": {},
   "outputs": [],
   "source": [
    "my_rest_api_key = \"여기에 자신의 어플리케이션 REST API key를 입력해준다.\""
   ]
  },
  {
   "cell_type": "code",
   "execution_count": 41,
   "metadata": {},
   "outputs": [],
   "source": [
    "import requests\n",
    "\n",
    "url = \"https://dapi.kakao.com/v2/local/search/keyword.json\"\n",
    "headers = {\"Authorization\": \"KakaoAK \" + my_rest_api_key}\n",
    "params = {\"query\": \"영등포구청역 1번출구\"}"
   ]
  },
  {
   "cell_type": "code",
   "execution_count": 42,
   "metadata": {},
   "outputs": [
    {
     "name": "stdout",
     "output_type": "stream",
     "text": [
      "{'documents': [{'address_name': '서울 영등포구 당산동3가 375',\n",
      "                'category_group_code': '',\n",
      "                'category_group_name': '',\n",
      "                'category_name': '스포츠,레저 > 자전거,싸이클 > 자전거대여소',\n",
      "                'distance': '',\n",
      "                'id': '1911311374',\n",
      "                'phone': '',\n",
      "                'place_name': '영등포구청역 1번출구 대여소',\n",
      "                'place_url': 'http://place.map.kakao.com/1911311374',\n",
      "                'road_address_name': '서울 영등포구 당산로 111-2',\n",
      "                'x': '126.896217493004',\n",
      "                'y': '37.5246335974008'},\n",
      "               {'address_name': '서울 영등포구 당산동3가',\n",
      "                'category_group_code': '',\n",
      "                'category_group_name': '',\n",
      "                'category_name': '교통,수송 > 지하철,전철',\n",
      "                'distance': '',\n",
      "                'id': '10642080',\n",
      "                'phone': '',\n",
      "                'place_name': '영등포구청역 2호선 1번출구',\n",
      "                'place_url': 'http://place.map.kakao.com/10642080',\n",
      "                'road_address_name': '',\n",
      "                'x': '126.896285209314',\n",
      "                'y': '37.5247489851369'}],\n",
      " 'meta': {'is_end': True,\n",
      "          'pageable_count': 2,\n",
      "          'same_name': {'keyword': '영등포구청역 1번출구',\n",
      "                        'region': [],\n",
      "                        'selected_region': ''},\n",
      "          'total_count': 2}}\n"
     ]
    }
   ],
   "source": [
    "res = requests.get(url=url, params=params, headers=headers)\n",
    "\n",
    "import pprint as pp\n",
    "pp.pprint(res.json())"
   ]
  },
  {
   "cell_type": "markdown",
   "metadata": {},
   "source": [
    "보면, `res['documents']` 이 `list` 형식으로, 검색결과를 받아오는 것을 알 수 있다.  \n",
    "\n",
    "검색결과 데이터 중 가장 첫 번째의 결과의 `adderss_name` 에 지역구가 들어있을 것이다."
   ]
  },
  {
   "cell_type": "code",
   "execution_count": 44,
   "metadata": {},
   "outputs": [
    {
     "data": {
      "text/plain": [
       "'서울 영등포구 당산동3가 375'"
      ]
     },
     "execution_count": 44,
     "metadata": {},
     "output_type": "execute_result"
    }
   ],
   "source": [
    "result = res.json()['documents'][0]\n",
    "result['address_name']"
   ]
  },
  {
   "cell_type": "markdown",
   "metadata": {},
   "source": [
    "지역구는 아래와 같이 추출할 수 있다."
   ]
  },
  {
   "cell_type": "code",
   "execution_count": 45,
   "metadata": {},
   "outputs": [
    {
     "data": {
      "text/plain": [
       "'영등포구'"
      ]
     },
     "execution_count": 45,
     "metadata": {},
     "output_type": "execute_result"
    }
   ],
   "source": [
    "result['address_name'].split()[1]"
   ]
  },
  {
   "cell_type": "markdown",
   "metadata": {},
   "source": [
    "#### 2.2) {대여소 이름: 지역구} 를 반환하는 함수 만들기."
   ]
  },
  {
   "cell_type": "code",
   "execution_count": 91,
   "metadata": {},
   "outputs": [],
   "source": [
    "def get_region_from_rental_number(rental_names, default_data=False, verbose=True, process_unit=300):\n",
    "    total = len(rental_names)\n",
    "    print(\"total_size :\", total)\n",
    "    print(\"-------------------\")\n",
    "    \n",
    "    d = {}\n",
    "    \n",
    "    # 먼저 대여소 데이터에서 얻을 수 있는 데이터는 얻자.\n",
    "    if default_data:\n",
    "        try: \n",
    "            rentals = pd.read_csv(\"data/서울특별시 공공자전거 대여소 정보.csv\")\n",
    "\n",
    "            for i, row in rentals.iterrows():\n",
    "                d[row['대여소명']] = row['구명']\n",
    "        except e:\n",
    "            print(e)\n",
    "            print(\"'서울특별시 공공자전거 대여소 정보.csv' 를 'data/' 내에 넣어주세요.\")\n",
    "\n",
    "    # 대여소 이름을 카카오맵 rest api query에 보내, 지역구를 받자.\n",
    "    fail, success = 0, 0\n",
    "    fail_list = set()\n",
    "    for i, rental_name in enumerate(rental_names, 1):\n",
    "        \n",
    "        # 진행속도 출력\n",
    "        if verbose and i % process_unit == 0:\n",
    "            print(\"%d / %d (%d%%) processed..\" %(i, total, float(i)/total*100))\n",
    " \n",
    "        # 이미 있으면 스킵.\n",
    "        if rental_name in d:\n",
    "            continue\n",
    "        \n",
    "        # api 에 쿼리 날리기.\n",
    "        params = {\"query\": \"서울 \" + rental_name}\n",
    "        res = requests.get(url=url, params=params, headers=headers)\n",
    "        result = res.json()['documents']\n",
    "        \n",
    "        if result:\n",
    "            region = result[0]['address_name'].split()[1]\n",
    "            d[rental_name] = region\n",
    "            success += 1\n",
    "        else:\n",
    "            # 실패했을 경우, 다음으로 한번 더 시도해본다.\n",
    "            if len(rental_name.split()) >= 2:\n",
    "                params = {\"query\": \"서울 \" + \"\".join(rental_name.split()[:-1])}\n",
    "                res = requests.get(url=url, params=params, headers=headers)\n",
    "                result = res.json()['documents']\n",
    "                \n",
    "                if result:\n",
    "                    region = result[0]['address_name'].split()[1]\n",
    "                    d[rental_name] = region\n",
    "                    success += 1\n",
    "                    continue\n",
    "            \n",
    "            # 그래도 실패한 경우.\n",
    "            fail_list.add(rental_name)\n",
    "            fail += 1         \n",
    "    \n",
    "    print(\"sucess: %d(%.1f%%)\" %(success, float(success)/(fail+success)*100))\n",
    "    print(\"fail: %d(%.1f%%)\" %(fail, float(fail)/(fail+success)*100))\n",
    "          \n",
    "    # dictionary, fail_list 반환\n",
    "    return d, fail_list"
   ]
  },
  {
   "cell_type": "markdown",
   "metadata": {},
   "source": [
    "테스트 해보자."
   ]
  },
  {
   "cell_type": "code",
   "execution_count": 92,
   "metadata": {},
   "outputs": [
    {
     "name": "stdout",
     "output_type": "stream",
     "text": [
      "total_size : 10\n",
      "-------------------\n",
      "sucess: 10(100.0%)\n",
      "fail: 0(0.0%)\n"
     ]
    },
    {
     "data": {
      "text/plain": [
       "({' 영등포구청역 1번출구': '영등포구',\n",
       "  ' 신한은행 안국역지점 옆': '종로구',\n",
       "  ' 탑골공원 앞': '종로구',\n",
       "  ' 홍연2교옆': '서대문구',\n",
       "  ' 삼각지역 4번출구 앞': '용산구',\n",
       "  ' 연신내역 5번출구150M 아래': '은평구',\n",
       "  ' 연신내역 3번출구 인근': '은평구',\n",
       "  ' 서울역사박물관 앞': '종로구',\n",
       "  ' 낙원상가 옆': '종로구',\n",
       "  ' 종로3가역 15번출구 앞': '종로구'},\n",
       " set())"
      ]
     },
     "execution_count": 92,
     "metadata": {},
     "output_type": "execute_result"
    }
   ],
   "source": [
    "rental_names = df['대여소'][:10]\n",
    "get_region_from_rental_number(rental_names)"
   ]
  },
  {
   "cell_type": "markdown",
   "metadata": {},
   "source": [
    "잘 뽑히는걸 확인할 수 있다."
   ]
  },
  {
   "cell_type": "markdown",
   "metadata": {},
   "source": [
    "## 3. 함수 사용하여 {대여소: 지역구} 만들고, 피클라이즈 하기."
   ]
  },
  {
   "cell_type": "markdown",
   "metadata": {},
   "source": [
    "이제 만들어놓은 함수로, 지역구 데이터를 데이터프레임에 추가하자."
   ]
  },
  {
   "cell_type": "code",
   "execution_count": 93,
   "metadata": {},
   "outputs": [
    {
     "name": "stdout",
     "output_type": "stream",
     "text": [
      "total_size : 1513\n",
      "-------------------\n",
      "300 / 1513 (19%) processed..\n",
      "600 / 1513 (39%) processed..\n",
      "900 / 1513 (59%) processed..\n",
      "1200 / 1513 (79%) processed..\n",
      "1500 / 1513 (99%) processed..\n",
      "sucess: 1481(99.6%)\n",
      "fail: 6(0.4%)\n"
     ]
    }
   ],
   "source": [
    "rental_names = set(df['대여소'].dropna())\n",
    "\n",
    "region, fail_list = get_region_from_rental_number(rental_names, default_data=True)"
   ]
  },
  {
   "cell_type": "code",
   "execution_count": 97,
   "metadata": {},
   "outputs": [
    {
     "data": {
      "text/plain": [
       "{' 구로구배드민턴실내체육관 앞',\n",
       " ' 구일우성(아) 육교 밑',\n",
       " ' 센서텍㈜',\n",
       " '8.삼호@ 2동 ( 간선도로)',\n",
       " '위트콤공장',\n",
       " '이동정비'}"
      ]
     },
     "execution_count": 97,
     "metadata": {},
     "output_type": "execute_result"
    }
   ],
   "source": [
    "fail_list"
   ]
  },
  {
   "cell_type": "markdown",
   "metadata": {},
   "source": [
    "일부 실패한 애들은, 카카오맵(https://map.kakao.com/) 에서 직접 찾아서 입력해주자."
   ]
  },
  {
   "cell_type": "code",
   "execution_count": 98,
   "metadata": {},
   "outputs": [],
   "source": [
    "region[' 구로구배드민턴실내체육관 앞'] = '구로구'\n",
    "region[' 구일우성(아) 육교 밑'] = '구로구'\n",
    "region[' 센서텍㈜'] = '강서구'\n",
    "region['8.삼호@ 2동 ( 간선도로)'] = '강남구'\n",
    "region['위트콤공장'] = '서초구'"
   ]
  },
  {
   "cell_type": "markdown",
   "metadata": {},
   "source": [
    "`region` 을 살짝 살펴보면, 아래와 같은 포맷이다."
   ]
  },
  {
   "cell_type": "code",
   "execution_count": 101,
   "metadata": {},
   "outputs": [
    {
     "name": "stdout",
     "output_type": "stream",
     "text": [
      "{'MCM 본사 직영점 앞': '강남구',\n",
      " '교보타워 버스정류장(신논현역 3번출구 후면)': '강남구',\n",
      " '논현역 7번출구': '강남구',\n",
      " '신영 ROYAL PALACE 앞': '강남구',\n",
      " '압구정 한양 3차 아파트': '강남구',\n",
      " '압구정역 2번 출구 옆': '강남구',\n",
      " '압구정파출소 앞': '강남구',\n",
      " '청담동 맥도날드 옆(위치)': '강남구',\n",
      " '청담역(우리들병원 앞)': '강남구',\n",
      " '학동로 래미안 아파트 앞': '강남구',\n",
      " '현대고등학교 건너편': '강남구'}\n"
     ]
    }
   ],
   "source": [
    "i = 0\n",
    "region_temp = {}\n",
    "for k, v in region.items():\n",
    "    region_temp[k] = v\n",
    "    i += 1\n",
    "    if i > 10:\n",
    "        break\n",
    "pp.pprint(region_temp)"
   ]
  },
  {
   "cell_type": "code",
   "execution_count": 107,
   "metadata": {},
   "outputs": [],
   "source": [
    "import pickle\n",
    "\n",
    "with open('data/rental_region.pkl', 'wb') as f:\n",
    "    pickle.dump(region, f)"
   ]
  },
  {
   "cell_type": "markdown",
   "metadata": {},
   "source": [
    "이제 pickled 된 `rental_region.pkl` 을 필요한 데이터프레임에서 merge 하면 된다."
   ]
  },
  {
   "cell_type": "markdown",
   "metadata": {},
   "source": [
    "---"
   ]
  }
 ],
 "metadata": {
  "kernelspec": {
   "display_name": "Python 3",
   "language": "python",
   "name": "python3"
  },
  "language_info": {
   "codemirror_mode": {
    "name": "ipython",
    "version": 3
   },
   "file_extension": ".py",
   "mimetype": "text/x-python",
   "name": "python",
   "nbconvert_exporter": "python",
   "pygments_lexer": "ipython3",
   "version": "3.7.2"
  }
 },
 "nbformat": 4,
 "nbformat_minor": 2
}
